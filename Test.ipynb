{
 "cells": [
  {
   "cell_type": "markdown",
   "id": "bf7b6241",
   "metadata": {},
   "source": [
    "## Dans ce projet, on utilise la bilbiotheque pptx de python, pour pouvoir manipuler et extraire des informations sur les diapositives du fichier pptx."
   ]
  },
  {
   "cell_type": "code",
   "execution_count": 5,
   "id": "9fc304b2",
   "metadata": {},
   "outputs": [
    {
     "name": "stdout",
     "output_type": "stream",
     "text": [
      "Dates de signature de la convention Natixis : []\n",
      "Montant de la subvention FASEP : None\n",
      "Avis du service économique sur le versement intermédiaire : None\n"
     ]
    }
   ],
   "source": [
    "\n",
    "from pptx import Presentation\n",
    "### La définition d'une fonction qui nous permet de parcourir toutes les diapositives du fichier PowerPoint pour extraire les informations demandées puis de les mettre dans un dataframe.\n",
    "def extraire_data(pptx_file):\n",
    "    # On dois d'abord ouvrir le fichier PowerPoint\n",
    "    power = Presentation(pptx_file)\n",
    "    # Initialiser les variables pour stocker les informations extraites\n",
    "    dates_signature = []\n",
    "    montant_subvention = None\n",
    "    avis_service_economique = None\n",
    "    \n",
    "    # Parcourir toutes les diapositives du fichier PowerPoint\n",
    "    for slide in power.slides:\n",
    "        for shape in slide.shapes:\n",
    "            if hasattr(shape, \"text\"):\n",
    "                # Rechercher les informations spécifiques dans le texte de chaque forme\n",
    "                if \"Date de signature de la convention Natixis\" in shape.text:\n",
    "                    # Extraire la date de signature de la convention Natixis\n",
    "                    date_signature = shape.text.split(\" \")[-1].strip()\n",
    "                    dates_signature.append(date_signature)\n",
    "                elif \"Montant du FASEP\" in shape.text:\n",
    "                    # Extraire le montant de la subvention FASEP\n",
    "                    montant_subvention = shape.text.split(\":\")[-1].strip()\n",
    "                elif \"Avis sur le versement intermédiaire\" in shape.text:\n",
    "                    # Extraire l'avis du service économique sur le versement intermédiaire\n",
    "                    avis_service_economique = shape.text.split(\":\")[-1].strip()\n",
    "\n",
    "    # Retourner les informations extraites\n",
    "    return dates_signature, montant_subvention, avis_service_economique\n",
    "\n",
    "# Chemin vers le fichier PowerPoint\n",
    "pptx_file = \"C:/Users/math/Desktop/mes_cv_et_lettre/Exemple FASEP.pptx\"\n",
    "\n",
    "# Appeler la fonction pour extraire les données\n",
    "dates_signature, montant_subvention, avis_service_economique = extraire_data(pptx_file)\n",
    "\n",
    "# Afficher les données extraites\n",
    "print(\"Dates de signature de la convention Natixis :\", dates_signature)\n",
    "print(\"Montant de la subvention FASEP :\", montant_subvention)\n",
    "print(\"Avis du service économique sur le versement intermédiaire :\", avis_service_economique)"
   ]
  },
  {
   "cell_type": "code",
   "execution_count": 5,
   "id": "2cf86b7c",
   "metadata": {},
   "outputs": [
    {
     "name": "stderr",
     "output_type": "stream",
     "text": [
      "E\n",
      "======================================================================\n",
      "ERROR: C:\\Users\\math\\AppData\\Roaming\\jupyter\\runtime\\kernel-f660c341-52e6-4f2e-bb90-4d622dd89ad8 (unittest.loader._FailedTest.C:\\Users\\math\\AppData\\Roaming\\jupyter\\runtime\\kernel-f660c341-52e6-4f2e-bb90-4d622dd89ad8)\n",
      "----------------------------------------------------------------------\n",
      "AttributeError: module '__main__' has no attribute 'C:\\Users\\math\\AppData\\Roaming\\jupyter\\runtime\\kernel-f660c341-52e6-4f2e-bb90-4d622dd89ad8'\n",
      "\n",
      "----------------------------------------------------------------------\n",
      "Ran 1 test in 0.001s\n",
      "\n",
      "FAILED (errors=1)\n"
     ]
    },
    {
     "ename": "SystemExit",
     "evalue": "True",
     "output_type": "error",
     "traceback": [
      "An exception has occurred, use %tb to see the full traceback.\n",
      "\u001b[1;31mSystemExit\u001b[0m\u001b[1;31m:\u001b[0m True\n"
     ]
    },
    {
     "name": "stderr",
     "output_type": "stream",
     "text": [
      "C:\\Users\\math\\.conda\\envs\\Lib\\site-packages\\IPython\\core\\interactiveshell.py:3513: UserWarning: To exit: use 'exit', 'quit', or Ctrl-D.\n",
      "  warn(\"To exit: use 'exit', 'quit', or Ctrl-D.\", stacklevel=1)\n"
     ]
    }
   ],
   "source": [
    "import unittest\n",
    "\n",
    "class TestExtractDataFromPPTX(unittest.TestCase):\n",
    "    def test_extract_data_from_pptx(self):\n",
    "        pptx_file = \"C:/Users/math/Desktop/mes_cv_et_lettre/Exemple FASEP.pptx\"\n",
    "        dates_signature, montant_subvention, avis_service_economique = extract_data_from_pptx(pptx_file)\n",
    "        \n",
    "        self.assertEqual(len(dates_signature), 1) # Vérifier qu'une seule date de signature est extraite\n",
    "        self.assertIsInstance(montant_subvention, str) # Vérifier que le montant de la subvention est une chaîne de caractères\n",
    "        self.assertIsInstance(avis_service_economique, str) # Vérifier que l'avis du service économique est une chaîne de caractères\n",
    "\n",
    "if __name__ == \"__main__\":\n",
    "    unittest.main()"
   ]
  },
  {
   "cell_type": "code",
   "execution_count": 4,
   "id": "4471f59a",
   "metadata": {},
   "outputs": [
    {
     "name": "stdout",
     "output_type": "stream",
     "text": [
      "Collecting python-pptx\n",
      "  Downloading python_pptx-0.6.23-py3-none-any.whl (471 kB)\n",
      "                                              0.0/471.6 kB ? eta -:--:--\n",
      "     ----------------------                 276.5/471.6 kB 8.6 MB/s eta 0:00:01\n",
      "     -------------------------------------- 471.6/471.6 kB 7.4 MB/s eta 0:00:00\n",
      "Requirement already satisfied: lxml>=3.1.0 in c:\\users\\math\\.conda\\envs\\lib\\site-packages (from python-pptx) (4.9.2)\n",
      "Requirement already satisfied: Pillow>=3.3.2 in c:\\users\\math\\.conda\\envs\\lib\\site-packages (from python-pptx) (9.4.0)\n",
      "Collecting XlsxWriter>=0.5.7 (from python-pptx)\n",
      "  Downloading XlsxWriter-3.1.9-py3-none-any.whl (154 kB)\n",
      "                                              0.0/154.8 kB ? eta -:--:--\n",
      "     -------------------------------------- 154.8/154.8 kB 9.6 MB/s eta 0:00:00\n",
      "Installing collected packages: XlsxWriter, python-pptx\n",
      "Successfully installed XlsxWriter-3.1.9 python-pptx-0.6.23\n",
      "Note: you may need to restart the kernel to use updated packages.\n"
     ]
    }
   ],
   "source": [
    "pip install python-pptx\n"
   ]
  },
  {
   "cell_type": "code",
   "execution_count": 6,
   "id": "4ff99d8f",
   "metadata": {},
   "outputs": [
    {
     "name": "stdout",
     "output_type": "stream",
     "text": [
      "Note: you may need to restart the kernel to use updated packages.\n"
     ]
    },
    {
     "name": "stderr",
     "output_type": "stream",
     "text": [
      "ERROR: Could not find a version that satisfies the requirement unittest (from versions: none)\n",
      "ERROR: No matching distribution found for unittest\n"
     ]
    }
   ],
   "source": [
    "pip install unittest"
   ]
  }
 ],
 "metadata": {
  "kernelspec": {
   "display_name": "Python 3 (ipykernel)",
   "language": "python",
   "name": "python3"
  },
  "language_info": {
   "codemirror_mode": {
    "name": "ipython",
    "version": 3
   },
   "file_extension": ".py",
   "mimetype": "text/x-python",
   "name": "python",
   "nbconvert_exporter": "python",
   "pygments_lexer": "ipython3",
   "version": "3.10.11"
  }
 },
 "nbformat": 4,
 "nbformat_minor": 5
}
